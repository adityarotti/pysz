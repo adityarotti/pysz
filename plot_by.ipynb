{
 "cells": [
  {
   "cell_type": "markdown",
   "metadata": {},
   "source": [
    "# Plot b_y\n",
    "The python script to make b_y vs redshift plot, Figure 10 of Chiang et al (2020)"
   ]
  },
  {
   "cell_type": "code",
   "execution_count": 1,
   "metadata": {
    "ExecuteTime": {
     "end_time": "2020-04-12T17:00:08.802174Z",
     "start_time": "2020-04-12T17:00:08.550482Z"
    }
   },
   "outputs": [],
   "source": [
    "# load modules\n",
    "%matplotlib inline\n",
    "%config InlineBackend.figure_formats = {'png', 'retina'}\n",
    "import matplotlib.pylab as plt\n",
    "import numpy as np\n",
    "from pysz import pysz"
   ]
  },
  {
   "cell_type": "code",
   "execution_count": 2,
   "metadata": {
    "ExecuteTime": {
     "end_time": "2020-04-12T17:00:08.904190Z",
     "start_time": "2020-04-12T17:00:08.899166Z"
    }
   },
   "outputs": [],
   "source": [
    "# initialize tsz_cl class\n",
    "tsz = pysz.tsz_cl()"
   ]
  },
  {
   "cell_type": "markdown",
   "metadata": {},
   "source": [
    "# b_Y and dY/dz calculation\n",
    "Calculate the Compton-Y weighted halo bias b_y, defined as (eq. 15 of Chiang et al. 2020)\n",
    "$$\n",
    "b_y(z) =\n",
    "\\frac{\\int {\\rm d}M \\frac{{\\rm d}n}{{\\rm d}M} \\tilde{y}_{0}(M,z)b_{\\rm lin}(M,z)}\n",
    "{\\int {\\rm d}M \\frac{{\\rm d}n}{{\\rm d}M} \\tilde{y}_{0}(M,z)},\n",
    "$$\n",
    "where dn/dM is the dark matter mass function, $b_{\\rm lin}$ the linear halo bias, $\\tilde{y}_0$ the total Compton-Y from the halo of mass M at redshift z defined as:\n",
    "$$\n",
    "\\tilde{y}_{0}(M,z) = \n",
    "\\frac{r_{\\rm 500}^3}{D_{\\rm A}^2}\n",
    "\\frac{\\sigma_{\\rm T}}{m_{\\rm e} c^2}\n",
    "\\int^{r_{\\rm max}}_{0}{\\rm d}r\\;4\\pi r^2 P_{\\rm e}(r| M, z).\n",
    "$$\n",
    "\n",
    "The code simultaneously calculate the redshift derivative of Compton-Y dy/dz\n",
    "$$\n",
    "\\frac{{\\rm d}y}{{\\rm d}z} = \\frac{{\\rm d}V}{{\\rm d}z{\\rm d}\\Omega} \\int_{M_{\\rm min}}^{M_{\\rm max}} {\\rm d}M \\frac{{\\rm d}n}{{\\rm d}M} \\tilde{y}_{0}(M,z)\n",
    "$$"
   ]
  },
  {
   "cell_type": "code",
   "execution_count": 6,
   "metadata": {
    "ExecuteTime": {
     "end_time": "2020-04-12T17:00:16.342193Z",
     "start_time": "2020-04-12T17:00:15.093158Z"
    }
   },
   "outputs": [],
   "source": [
    "# Calculate the b_Y and dY/dz, defined in Chiang et al. (2020)\n",
    "# set cosmological parameters and mass bias\n",
    "pars = {'h0':0.6737, 'obh2':0.02233,'och2':0.1198,\\\n",
    "        'As':2.097e-9,'ns':0.9652,'mnu':0.06,\\\n",
    "        'flag_nu':True, 'mass_bias':1.27}\n",
    "# if flag_nu = True, the code use the cdm+baryon power spectrum in the calculation\n",
    "# instread of the total matter power spectrum. \n",
    "# See Sec 4 of Chiang et al. (2020)\n",
    "\n",
    "# Set the array of redshifts at which b_Y and dY/dz calculated\n",
    "zarr = np.logspace(np.log10(1e-2),np.log10(3.5),100)\n",
    "\n",
    "# Calculate b_Y and dY/dz\n",
    "by, dydz = tsz.get_by_dydz(zarr,pars,Mmin=1e11,Mmax=5e15)"
   ]
  },
  {
   "cell_type": "code",
   "execution_count": 10,
   "metadata": {
    "ExecuteTime": {
     "end_time": "2020-04-12T17:00:16.873596Z",
     "start_time": "2020-04-12T17:00:16.345939Z"
    }
   },
   "outputs": [
    {
     "name": "stderr",
     "output_type": "stream",
     "text": [
      "/Users/ryu/anaconda3/lib/python3.7/site-packages/ipykernel_launcher.py:4: UserWarning: Attempted to set non-positive left xlim on a log-scaled axis.\n",
      "Invalid limit will be ignored.\n",
      "  after removing the cwd from sys.path.\n"
     ]
    },
    {
     "data": {
      "text/plain": [
       "Text(0, 0.5, '$b_y$')"
      ]
     },
     "execution_count": 10,
     "metadata": {},
     "output_type": "execute_result"
    },
    {
     "data": {
      "image/png": "[encoded data removed]",
      "text/plain": [
       "<Figure size 432x288 with 1 Axes>"
      ]
     },
     "metadata": {
      "image/png": {
       "height": 267,
       "width": 388
      },
      "needs_background": "light"
     },
     "output_type": "display_data"
    }
   ],
   "source": [
    "# plot\n",
    "plt.plot(zarr,by)\n",
    "plt.xscale('log')\n",
    "plt.xlim(0.0,3.5)\n",
    "plt.ylim(2.5,5.5)\n",
    "plt.xlabel(r'redshift $z$')\n",
    "plt.ylabel(r'$b_y$')"
   ]
  }
 ],
 "metadata": {
  "kernelspec": {
   "display_name": "Python 3",
   "language": "python",
   "name": "python3"
  },
  "language_info": {
   "codemirror_mode": {
    "name": "ipython",
    "version": 3
   },
   "file_extension": ".py",
   "mimetype": "text/x-python",
   "name": "python",
   "nbconvert_exporter": "python",
   "pygments_lexer": "ipython3",
   "version": "3.7.6"
  },
  "toc": {
   "colors": {
    "hover_highlight": "#DAA520",
    "navigate_num": "#000000",
    "navigate_text": "#333333",
    "running_highlight": "#FF0000",
    "selected_highlight": "#FFD700",
    "sidebar_border": "#EEEEEE",
    "wrapper_background": "#FFFFFF"
   },
   "moveMenuLeft": true,
   "nav_menu": {
    "height": "12px",
    "width": "252px"
   },
   "navigate_menu": true,
   "number_sections": true,
   "sideBar": true,
   "threshold": 4,
   "toc_cell": false,
   "toc_section_display": "block",
   "toc_window_display": false,
   "widenNotebook": false
  }
 },
 "nbformat": 4,
 "nbformat_minor": 4
}
